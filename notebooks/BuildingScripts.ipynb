{
 "cells": [
  {
   "cell_type": "code",
   "execution_count": 61,
   "id": "44ad72a7-c12d-4166-aa44-a257f702d596",
   "metadata": {},
   "outputs": [],
   "source": [
    "import pandas as pd\n",
    "import numpy as np\n",
    "import seaborn as sns\n",
    "import matplotlib.pyplot as plt\n",
    "sns.set(color_codes=True)\n",
    "from numpy import math\n",
    "from sklearn import preprocessing\n",
    "from sklearn.metrics import mean_squared_error\n",
    "from sklearn.feature_selection import mutual_info_regression, mutual_info_classif\n",
    "from imblearn.combine import SMOTEENN, SMOTETomek\n",
    "import warnings\n",
    "warnings.simplefilter(action='ignore', category=FutureWarning)"
   ]
  },
  {
   "cell_type": "markdown",
   "id": "3abd90b4-def3-4f3d-9f5f-ec40899f7edc",
   "metadata": {},
   "source": [
    "# SCRIPTS DEL PROYECTO"
   ]
  },
  {
   "cell_type": "markdown",
   "id": "7da4d78a-f127-48a8-81ec-a40480fade72",
   "metadata": {
    "tags": []
   },
   "source": [
    "## SCRIPT 1: Preparacion de datos para el entrenamiento"
   ]
  },
  {
   "cell_type": "code",
   "execution_count": 47,
   "id": "bec96683-c827-434e-aea6-9ccd74eca188",
   "metadata": {},
   "outputs": [],
   "source": [
    "df_train=pd.read_csv(\".\\\\data\\\\raw\\\\df_bank_train.csv\")"
   ]
  },
  {
   "cell_type": "code",
   "execution_count": 48,
   "id": "e8f0178a-c31f-48cf-bf2c-fb2889098927",
   "metadata": {},
   "outputs": [
    {
     "data": {
      "text/plain": [
       "no     31937\n",
       "yes     4231\n",
       "Name: y, dtype: int64"
      ]
     },
     "execution_count": 48,
     "metadata": {},
     "output_type": "execute_result"
    }
   ],
   "source": [
    "df_train.y.value_counts()"
   ]
  },
  {
   "cell_type": "markdown",
   "id": "b27a5518-6f64-4450-bc3d-f607c224d46f",
   "metadata": {
    "tags": []
   },
   "source": [
    "### Resultado Mutual Information -Feature Selection"
   ]
  },
  {
   "attachments": {
    "8032aebe-1708-48cb-9cd2-fb5a25780040.png": {
     "image/png": "[encoded data removed]"
    }
   },
   "cell_type": "markdown",
   "id": "a6f6ea76-51d5-4524-b9b7-82ea916b5514",
   "metadata": {},
   "source": [
    "![image.png](attachment:8032aebe-1708-48cb-9cd2-fb5a25780040.png)"
   ]
  },
  {
   "cell_type": "markdown",
   "id": "1b1adcb7-0811-4b79-a7ae-a8b8b330ee9b",
   "metadata": {},
   "source": [
    "### Selección de variables inicial"
   ]
  },
  {
   "cell_type": "code",
   "execution_count": 49,
   "id": "9620364d-44df-4926-a4b7-9f539c57a32d",
   "metadata": {},
   "outputs": [],
   "source": [
    "to_drop = ['default','loan','marital','education','campaign','day','previous']\n",
    "df_train.drop(columns=to_drop, axis=1, inplace = True)"
   ]
  },
  {
   "cell_type": "markdown",
   "id": "24d6cdd8-2c94-4f1f-a4e4-4de3dcfd3134",
   "metadata": {},
   "source": [
    "### Pre-Procesamiento de datos"
   ]
  },
  {
   "cell_type": "code",
   "execution_count": 50,
   "id": "dd69a617-33a2-405a-8f80-d5a46107aad1",
   "metadata": {},
   "outputs": [
    {
     "name": "stdout",
     "output_type": "stream",
     "text": [
      "['balance', 'duration', 'age', 'pdays']\n",
      "['job', 'contact', 'y', 'housing', 'poutcome', 'month']\n"
     ]
    }
   ],
   "source": [
    "numeric_columns = set(df_train.select_dtypes(include=['number']).columns)\n",
    "non_numeric_columns = set(df_train.columns) - numeric_columns\n",
    "numeric_columns = list(numeric_columns)\n",
    "non_numeric_columns= list(non_numeric_columns)\n",
    "print(numeric_columns)\n",
    "print(non_numeric_columns)"
   ]
  },
  {
   "cell_type": "markdown",
   "id": "9479ddee-5fdd-48a4-8f8c-e0839bdbda50",
   "metadata": {},
   "source": [
    "#### Codificando columnas categoricas"
   ]
  },
  {
   "cell_type": "code",
   "execution_count": 51,
   "id": "c380dca8-27e7-420b-8e3a-76a5eec68ab5",
   "metadata": {},
   "outputs": [],
   "source": [
    "for col in df_train.select_dtypes(['object']):\n",
    "    df_train[col],unique = df_train[col].factorize(sort= True)"
   ]
  },
  {
   "cell_type": "markdown",
   "id": "e479a952-532d-44b5-a20d-39b3b643e5de",
   "metadata": {},
   "source": [
    "#### Tratamiento de Outliers"
   ]
  },
  {
   "cell_type": "code",
   "execution_count": 52,
   "id": "a0936260-a8db-4987-afe9-961cdfa98503",
   "metadata": {},
   "outputs": [],
   "source": [
    "# funcion para calcular el limite superior e inferior de las variables numericas\n",
    "def limites(columna):\n",
    "    c = [.25,.75]\n",
    "    q1,q3=columna.quantile(c)\n",
    "    ## calculamos\n",
    "    lim_inf = q3 - 1.5* (q3-q1)\n",
    "    lim_sup = q3 + 1.5* (q3-q1)\n",
    "    return(lim_inf ,lim_sup)"
   ]
  },
  {
   "cell_type": "code",
   "execution_count": 53,
   "id": "9fe98515-fe5c-433f-8c62-060739c5d65b",
   "metadata": {},
   "outputs": [],
   "source": [
    "# Analizamos las variables numericas\n",
    "for col in df_train[numeric_columns]:\n",
    "    if col != 'pdays':\n",
    "        a,b = limites(df_train[col])\n",
    "        #recorte\n",
    "        df_train.loc[df_train[col]<a,col] = a \n",
    "        df_train.loc[df_train[col]>b,col] = b \n",
    "    else:\n",
    "        df_train[col]= df_train[col]"
   ]
  },
  {
   "cell_type": "code",
   "execution_count": 55,
   "id": "148b7027-8ad1-416e-a20c-038b6f1cc5bc",
   "metadata": {},
   "outputs": [],
   "source": [
    "df_train[\"pdays\"]= df_train[\"pdays\"].replace([-1],0) # para no tener valores negativos, signfica que el cliente no fue contactado previamente"
   ]
  },
  {
   "cell_type": "code",
   "execution_count": 57,
   "id": "55b548fb-7de1-47f6-8da9-7c365f57b62f",
   "metadata": {},
   "outputs": [],
   "source": [
    "from sklearn.preprocessing import MinMaxScaler\n",
    "scaler = MinMaxScaler()\n",
    "df_train[numeric_columns] = scaler.fit_transform(df_train[numeric_columns])"
   ]
  },
  {
   "cell_type": "markdown",
   "id": "a79937cf-c54a-4f64-a5e9-ddfaee8d0779",
   "metadata": {},
   "source": [
    "### Balanceo de clases"
   ]
  },
  {
   "cell_type": "code",
   "execution_count": 62,
   "id": "465d9016-e5b2-467b-9fe7-10b544ef50ec",
   "metadata": {},
   "outputs": [],
   "source": [
    "X = df_train.drop('y',axis=1)\n",
    "y = df_train['y']"
   ]
  },
  {
   "cell_type": "code",
   "execution_count": 64,
   "id": "5ecd28bf-df9b-404f-ac39-b41d0241dbfb",
   "metadata": {},
   "outputs": [
    {
     "name": "stdout",
     "output_type": "stream",
     "text": [
      "Resampled dataset shape Counter({1: 27736, 0: 25571})\n"
     ]
    }
   ],
   "source": [
    "SMT=SMOTEENN() \n",
    "x_bal, y_bal= SMT.fit_resample(X,y) \n",
    "from collections import Counter\n",
    "print('Resampled dataset shape %s' % Counter(y_bal))"
   ]
  },
  {
   "cell_type": "code",
   "execution_count": 65,
   "id": "f168aa75-e5bb-4b33-b7ed-35d51053b643",
   "metadata": {},
   "outputs": [],
   "source": [
    "df_train_proc=pd.concat([x_bal, y_bal], axis=1) "
   ]
  },
  {
   "cell_type": "code",
   "execution_count": 67,
   "id": "2aee4eba-d52b-479a-9af2-d553f41c141d",
   "metadata": {},
   "outputs": [],
   "source": [
    "df_train_proc.to_csv(\".\\\\data\\\\processed\\\\df_bank_train_proc.csv\", index = False)"
   ]
  },
  {
   "cell_type": "markdown",
   "id": "4829fff1-b641-41f0-81d3-d42c5faffb59",
   "metadata": {
    "tags": []
   },
   "source": [
    "## SCRIPT 2: Coddigo de  Entrenamiento"
   ]
  },
  {
   "cell_type": "code",
   "execution_count": 2,
   "id": "1f6e3668-a2db-42fc-96a3-319abba59197",
   "metadata": {},
   "outputs": [],
   "source": [
    "import pandas as pd\n",
    "from sklearn.metrics import accuracy_score\n",
    "from sklearn.metrics import classification_report\n",
    "from sklearn.metrics import confusion_matrix\n",
    "import xgboost as xgb\n",
    "from xgboost import XGBClassifier\n",
    "from sklearn.metrics import f1_score\n",
    "import warnings\n",
    "warnings.simplefilter(action='ignore', category=FutureWarning)"
   ]
  },
  {
   "cell_type": "code",
   "execution_count": 3,
   "id": "426a7ba4-6688-484a-8001-1ff3e9dc62cf",
   "metadata": {},
   "outputs": [],
   "source": [
    "# Cargar la tabla transformada\n",
    "df_train_proc = pd.read_csv(\".\\\\data\\\\processed\\\\df_bank_train_proc.csv\")\n",
    "X_train = df_train_proc.drop(['y'],axis=1)\n",
    "y_train = df_train_proc[['y']]"
   ]
  },
  {
   "cell_type": "code",
   "execution_count": 4,
   "id": "029ae483-f08b-41be-8424-54abc625e168",
   "metadata": {},
   "outputs": [
    {
     "name": "stdout",
     "output_type": "stream",
     "text": [
      "[16:03:30] WARNING: C:/Users/Administrator/workspace/xgboost-win64_release_1.5.1/src/learner.cc:1115: Starting in XGBoost 1.3.0, the default evaluation metric used with the objective 'binary:logistic' was changed from 'error' to 'logloss'. Explicitly set eval_metric if you'd like to restore the old behavior.\n"
     ]
    },
    {
     "data": {
      "text/plain": [
       "XGBClassifier(base_score=0.5, booster='gbtree', colsample_bylevel=1,\n",
       "              colsample_bynode=1, colsample_bytree=1, enable_categorical=False,\n",
       "              gamma=0.05, gpu_id=-1, importance_type=None,\n",
       "              interaction_constraints='', learning_rate=0.1, max_delta_step=0,\n",
       "              max_depth=8, min_child_weight=1, missing=nan,\n",
       "              monotone_constraints='()', n_estimators=200, n_jobs=-1,\n",
       "              num_parallel_tree=1, predictor='auto', random_state=27,\n",
       "              reg_alpha=0, reg_lambda=1, scale_pos_weight=1, seed=27,\n",
       "              subsample=0.8, tree_method='exact', validate_parameters=1,\n",
       "              verbosity=None)"
      ]
     },
     "execution_count": 4,
     "metadata": {},
     "output_type": "execute_result"
    }
   ],
   "source": [
    "# Entrenamos el modelo con toda la muestra\n",
    "xgb_model = xgb.XGBClassifier(base_score=0.5, booster='gbtree', colsample_bylevel=1,\n",
    "              colsample_bynode=1, colsample_bytree=1, enable_categorical=False,\n",
    "              gamma=0.05, gpu_id=-1, importance_type=None,\n",
    "              interaction_constraints='', learning_rate=0.1, max_delta_step=0,\n",
    "              max_depth=8, min_child_weight=1,\n",
    "              monotone_constraints='()', n_estimators=200, n_jobs=-1,\n",
    "              num_parallel_tree=1, predictor='auto', random_state=27,\n",
    "              reg_alpha=0, reg_lambda=1, scale_pos_weight=1, seed=27,\n",
    "              subsample=0.8, tree_method='exact', validate_parameters=1,\n",
    "              verbosity=None)\n",
    "\n",
    "xgb_model.fit(X_train, y_train)"
   ]
  },
  {
   "cell_type": "code",
   "execution_count": 6,
   "id": "b32f7703-bf34-42b3-bfb4-10fbc5bcd63d",
   "metadata": {},
   "outputs": [],
   "source": [
    "import pickle\n",
    "# Guardamos el modelo entrenado para usarlo en produccion\n",
    "filename = '.\\\\models\\\\best_model.pkl'\n",
    "pickle.dump(xgb_model, open(filename, 'wb'))"
   ]
  },
  {
   "cell_type": "markdown",
   "id": "d5884a56-d3f5-4d5c-9f65-f3194f4623c8",
   "metadata": {},
   "source": [
    "## SCRIPT 3: Preparación de Datos de Validación"
   ]
  },
  {
   "cell_type": "code",
   "execution_count": 7,
   "id": "52dc043b-16ca-4f86-be40-18147574c4f8",
   "metadata": {},
   "outputs": [],
   "source": [
    "df_valid=pd.read_csv(\".\\\\data\\\\raw\\\\df_bank_valid.csv\")"
   ]
  },
  {
   "cell_type": "code",
   "execution_count": 8,
   "id": "ac8441d0-e96a-4de0-9122-1176a1839ae3",
   "metadata": {},
   "outputs": [],
   "source": [
    "# dropeo inicial por Feature selection- Mutual information\n",
    "to_drop = ['default','loan','marital','education','campaign','day','previous']\n",
    "df_valid.drop(columns=to_drop, axis=1, inplace = True)"
   ]
  },
  {
   "cell_type": "code",
   "execution_count": 9,
   "id": "55caf4a5-42f3-4bf5-82cd-1f658e8ce1be",
   "metadata": {},
   "outputs": [
    {
     "name": "stdout",
     "output_type": "stream",
     "text": [
      "['duration', 'age', 'pdays', 'balance']\n",
      "['contact', 'month', 'poutcome', 'housing', 'y', 'job']\n"
     ]
    }
   ],
   "source": [
    "numeric_columns = set(df_valid.select_dtypes(include=['number']).columns)\n",
    "non_numeric_columns = set(df_valid.columns) - numeric_columns\n",
    "numeric_columns = list(numeric_columns)\n",
    "non_numeric_columns= list(non_numeric_columns)\n",
    "print(numeric_columns)\n",
    "print(non_numeric_columns)"
   ]
  },
  {
   "cell_type": "code",
   "execution_count": 11,
   "id": "f6f00d88-8218-4d95-959c-bc55893a8f4f",
   "metadata": {},
   "outputs": [],
   "source": [
    "# Codificando variables categoricas\n",
    "for col in df_valid.select_dtypes(['object']):\n",
    "    df_valid[col],unique = df_valid[col].factorize(sort= True)"
   ]
  },
  {
   "cell_type": "code",
   "execution_count": 13,
   "id": "3a130f39-1ec7-4a2c-b317-9fccb5e3c43f",
   "metadata": {},
   "outputs": [],
   "source": [
    "# funcion para calcular el limite superior e inferior de las variables numericas\n",
    "def limites(columna):\n",
    "    c = [.25,.75]\n",
    "    q1,q3=columna.quantile(c)\n",
    "    ## calculamos\n",
    "    lim_inf = q3 - 1.5* (q3-q1)\n",
    "    lim_sup = q3 + 1.5* (q3-q1)\n",
    "    return(lim_inf ,lim_sup)"
   ]
  },
  {
   "cell_type": "code",
   "execution_count": 14,
   "id": "573ec193-2cd9-4ff1-898a-f06481f04272",
   "metadata": {},
   "outputs": [],
   "source": [
    "# Analizamos las variables numericas\n",
    "for col in df_valid[numeric_columns]:\n",
    "    if col != 'pdays':\n",
    "        a,b = limites(df_valid[col])\n",
    "        #recorte\n",
    "        df_valid.loc[df_valid[col]<a,col] = a \n",
    "        df_valid.loc[df_valid[col]>b,col] = b \n",
    "    else:\n",
    "        df_valid[col]= df_valid[col]"
   ]
  },
  {
   "cell_type": "code",
   "execution_count": 15,
   "id": "c620513d-6801-4e28-8b50-90f124e3c5b8",
   "metadata": {},
   "outputs": [],
   "source": [
    "df_valid[\"pdays\"]= df_valid[\"pdays\"].replace([-1],0) # para no tener valores negativos, signfica que el cliente no fue contactado previamente"
   ]
  },
  {
   "cell_type": "code",
   "execution_count": 16,
   "id": "2144da37-e0b0-4c6f-b394-c5d5c8541032",
   "metadata": {},
   "outputs": [],
   "source": [
    "from sklearn.preprocessing import MinMaxScaler\n",
    "scaler = MinMaxScaler()\n",
    "df_valid[numeric_columns] = scaler.fit_transform(df_valid[numeric_columns])"
   ]
  },
  {
   "cell_type": "code",
   "execution_count": 19,
   "id": "3d7d97fd-11cb-4d3e-b5c5-ad4877f9257f",
   "metadata": {},
   "outputs": [],
   "source": [
    "df_valid.to_csv(\".\\\\data\\\\processed\\\\df_bank_valid_proc.csv\", index = False)"
   ]
  },
  {
   "cell_type": "markdown",
   "id": "e83f5ad5-cb68-40b8-abf4-bcdafce78684",
   "metadata": {},
   "source": [
    "## SCRIPT 4: Código de Validación"
   ]
  },
  {
   "cell_type": "code",
   "execution_count": 22,
   "id": "6a5648d0-a9e5-4d54-bc8a-b0ce8f88de7a",
   "metadata": {},
   "outputs": [],
   "source": [
    "import pandas as pd\n",
    "import xgboost as xgb\n",
    "import pickle\n",
    "import matplotlib.pyplot as plt\n",
    "from sklearn.metrics import *"
   ]
  },
  {
   "cell_type": "code",
   "execution_count": 24,
   "id": "52b1c58b-469c-4c43-b85e-30c13fe8ff83",
   "metadata": {},
   "outputs": [],
   "source": [
    "# Cargar la tabla transformada\n",
    "df_test = pd.read_csv(\".\\\\data\\\\processed\\\\df_bank_valid_proc.csv\")\n",
    "X_test = df_test.drop(['y'],axis=1)\n",
    "y_test = df_test[['y']]"
   ]
  },
  {
   "cell_type": "code",
   "execution_count": 25,
   "id": "93306fef-af4a-4374-b3b0-e1a51a8663d7",
   "metadata": {},
   "outputs": [],
   "source": [
    "# Leemos el modelo entrenado!\n",
    "filename = '.\\\\models\\\\best_model.pkl'\n",
    "model = pickle.load(open(filename, 'rb'))"
   ]
  },
  {
   "cell_type": "code",
   "execution_count": 27,
   "id": "58a35260-5fe8-41de-b852-654c13ead923",
   "metadata": {},
   "outputs": [],
   "source": [
    "# Predecimos sobre el set de datos de implementacion con el modelo entrenado\n",
    "y_pred_test=model.predict(X_test)"
   ]
  },
  {
   "cell_type": "code",
   "execution_count": 30,
   "id": "9e57c21e-6eec-4f5a-88d6-e3711af1cd7b",
   "metadata": {},
   "outputs": [
    {
     "name": "stdout",
     "output_type": "stream",
     "text": [
      "[[2907 1085]\n",
      " [  29  500]]\n",
      "              precision    recall  f1-score   support\n",
      "\n",
      "           0       0.99      0.73      0.84      3992\n",
      "           1       0.32      0.95      0.47       529\n",
      "\n",
      "    accuracy                           0.75      4521\n",
      "   macro avg       0.65      0.84      0.66      4521\n",
      "weighted avg       0.91      0.75      0.80      4521\n",
      "\n"
     ]
    }
   ],
   "source": [
    "print(confusion_matrix(y_test, y_pred_test))\n",
    "print(classification_report(y_test,y_pred_test))"
   ]
  },
  {
   "cell_type": "code",
   "execution_count": 29,
   "id": "eb627631-042b-4582-9f92-485f996174e3",
   "metadata": {},
   "outputs": [],
   "source": [
    "def save_plot(title):\n",
    "    plt.title(title)\n",
    "    fig = plt.gcf()\n",
    "    filename = title.replace(\" \", \"_\").lower()\n",
    "    fig.savefig('{}'.format(filename), dpi=500)\n",
    "    plt.clf()"
   ]
  },
  {
   "cell_type": "code",
   "execution_count": 31,
   "id": "ea2204bb-a783-4d2e-a768-183e0c16c618",
   "metadata": {},
   "outputs": [
    {
     "data": {
      "text/plain": [
       "<Figure size 432x288 with 0 Axes>"
      ]
     },
     "metadata": {},
     "output_type": "display_data"
    }
   ],
   "source": [
    "plot_confusion_matrix(model, X_test, y_test)\n",
    "save_plot('Confusion Matrix')"
   ]
  },
  {
   "cell_type": "code",
   "execution_count": 32,
   "id": "a022ab16-8448-4683-9722-f9e1967984e6",
   "metadata": {},
   "outputs": [
    {
     "data": {
      "text/plain": [
       "<Figure size 432x288 with 0 Axes>"
      ]
     },
     "metadata": {},
     "output_type": "display_data"
    }
   ],
   "source": [
    "plot_roc_curve(model, X_test, y_test)\n",
    "save_plot('ROC Curve')"
   ]
  },
  {
   "cell_type": "markdown",
   "id": "85264b3a-6e59-461b-8bbc-bbe40c5e16ef",
   "metadata": {},
   "source": [
    "## SCRIPT 5: Preparación de Datos de Score (Automatización)"
   ]
  },
  {
   "cell_type": "code",
   "execution_count": 1,
   "id": "05c66436-6ee9-477a-8d45-048c55db481f",
   "metadata": {},
   "outputs": [],
   "source": [
    "import numpy as np\n",
    "import pandas as pd"
   ]
  },
  {
   "cell_type": "code",
   "execution_count": 2,
   "id": "c3d08972-e26a-40aa-b909-78e134b1b156",
   "metadata": {},
   "outputs": [],
   "source": [
    "# Cargar \n",
    "df_score = pd.read_csv(\".\\\\data\\\\raw\\\\df_bank_score.csv\")"
   ]
  },
  {
   "cell_type": "code",
   "execution_count": 3,
   "id": "f415fb9a-c845-4317-9977-2ece2f1ed2d9",
   "metadata": {},
   "outputs": [],
   "source": [
    "# dropeo inicial por Feature selection- Mutual information\n",
    "to_drop = ['default','loan','marital','education','campaign','day','previous']\n",
    "df_score.drop(columns=to_drop, axis=1, inplace = True)"
   ]
  },
  {
   "cell_type": "code",
   "execution_count": 4,
   "id": "3da6d4a2-68ff-4700-b6e7-176a6804b4db",
   "metadata": {},
   "outputs": [
    {
     "name": "stdout",
     "output_type": "stream",
     "text": [
      "['balance', 'age', 'duration', 'pdays']\n",
      "['housing', 'month', 'contact', 'job', 'poutcome']\n"
     ]
    }
   ],
   "source": [
    "numeric_columns = set(df_score.select_dtypes(include=['number']).columns)\n",
    "non_numeric_columns = set(df_score.columns) - numeric_columns\n",
    "numeric_columns = list(numeric_columns)\n",
    "non_numeric_columns= list(non_numeric_columns)\n",
    "print(numeric_columns)\n",
    "print(non_numeric_columns)"
   ]
  },
  {
   "cell_type": "code",
   "execution_count": 5,
   "id": "bade1deb-f436-4e95-a565-180e4fd7a98d",
   "metadata": {},
   "outputs": [],
   "source": [
    "# Codificando variables categoricas\n",
    "for col in df_score.select_dtypes(['object']):\n",
    "    df_score[col],unique = df_score[col].factorize(sort= True)"
   ]
  },
  {
   "cell_type": "code",
   "execution_count": 6,
   "id": "e74ad781-a55a-4aae-9e98-3ac3e96f949b",
   "metadata": {},
   "outputs": [],
   "source": [
    "# funcion para calcular el limite superior e inferior de las variables numericas\n",
    "def limites(columna):\n",
    "    c = [.25,.75]\n",
    "    q1,q3=columna.quantile(c)\n",
    "    ## calculamos\n",
    "    lim_inf = q3 - 1.5* (q3-q1)\n",
    "    lim_sup = q3 + 1.5* (q3-q1)\n",
    "    return(lim_inf ,lim_sup)"
   ]
  },
  {
   "cell_type": "code",
   "execution_count": 7,
   "id": "753d4253-0bcc-4231-b694-2fe31d34f9ca",
   "metadata": {},
   "outputs": [],
   "source": [
    "# Analizamos las variables numericas\n",
    "for col in df_score[numeric_columns]:\n",
    "    if col != 'pdays':\n",
    "        a,b = limites(df_score[col])\n",
    "        #recorte\n",
    "        df_score.loc[df_score[col]<a,col] = a \n",
    "        df_score.loc[df_score[col]>b,col] = b \n",
    "    else:\n",
    "        df_score[col]= df_score[col]"
   ]
  },
  {
   "cell_type": "code",
   "execution_count": 8,
   "id": "5b2b3839-d670-4601-a993-681fa902f845",
   "metadata": {},
   "outputs": [],
   "source": [
    "df_score[\"pdays\"]= df_score[\"pdays\"].replace([-1],0) # para no tener valores negativos, signfica que el cliente no fue contactado previamente"
   ]
  },
  {
   "cell_type": "code",
   "execution_count": 9,
   "id": "d68a9bb3-2be9-4c4d-bff3-98112bf98d7a",
   "metadata": {},
   "outputs": [],
   "source": [
    "from sklearn.preprocessing import MinMaxScaler\n",
    "scaler = MinMaxScaler()\n",
    "df_score[numeric_columns] = scaler.fit_transform(df_score[numeric_columns])"
   ]
  },
  {
   "cell_type": "code",
   "execution_count": 10,
   "id": "200e61f1-8b91-4a23-bcbf-0ee3225c08f1",
   "metadata": {},
   "outputs": [],
   "source": [
    "df_score.to_csv(\".\\\\data\\\\processed\\\\df_bank_score_proc.csv\", index = False)"
   ]
  },
  {
   "cell_type": "markdown",
   "id": "35482ee3-7f9d-454b-8f37-87e481619bf5",
   "metadata": {},
   "source": [
    "## SCRIPT 6: Código de Scoring (Automatización)"
   ]
  },
  {
   "cell_type": "code",
   "execution_count": 12,
   "id": "7f737bb9-f78a-4b14-bfec-95aa0b202b03",
   "metadata": {},
   "outputs": [],
   "source": [
    "import pandas as pd\n",
    "import xgboost as xgb\n",
    "import pickle\n",
    "import warnings\n",
    "warnings.simplefilter(action='ignore', category=FutureWarning)"
   ]
  },
  {
   "cell_type": "code",
   "execution_count": 13,
   "id": "4f3dd968-262b-4944-804f-e42c0734b981",
   "metadata": {},
   "outputs": [],
   "source": [
    "# Cargar la tabla transformada\n",
    "df_score = pd.read_csv(\".\\\\data\\\\processed\\\\df_bank_score_proc.csv\")"
   ]
  },
  {
   "cell_type": "code",
   "execution_count": 14,
   "id": "a05bb6bb-0338-4cbd-8543-65ed036f3dc5",
   "metadata": {},
   "outputs": [],
   "source": [
    "# Leemos el modelo entrenado!\n",
    "filename = '.\\\\models\\\\best_model.pkl'\n",
    "model = pickle.load(open(filename, 'rb'))"
   ]
  },
  {
   "cell_type": "code",
   "execution_count": 15,
   "id": "20dd636c-f99f-41e1-b5b3-6e44a53bcb7c",
   "metadata": {},
   "outputs": [],
   "source": [
    "# Predecimos sobre el set de datos de implementacion con el modelo entrenado\n",
    "scores=model.predict(df_score).reshape(-1,1)"
   ]
  },
  {
   "cell_type": "code",
   "execution_count": 16,
   "id": "9a1dd47a-e2a6-4e12-a7ed-0ca4d98a004b",
   "metadata": {},
   "outputs": [],
   "source": [
    "# Exportamos el resultado del modelo para cargarlo en el Feature Store o Data Mart de Modelos\n",
    "# Le asignamos nombres a las columnas\n",
    "df_scores = pd.DataFrame(scores, columns=['PREDICT'])\n",
    "# Exportamos la solucion\n",
    "df_scores.to_csv('.\\\\data\\\\scores\\\\final_score.csv')"
   ]
  }
 ],
 "metadata": {
  "kernelspec": {
   "display_name": "Python 3 (ipykernel)",
   "language": "python",
   "name": "python3"
  },
  "language_info": {
   "codemirror_mode": {
    "name": "ipython",
    "version": 3
   },
   "file_extension": ".py",
   "mimetype": "text/x-python",
   "name": "python",
   "nbconvert_exporter": "python",
   "pygments_lexer": "ipython3",
   "version": "3.9.7"
  }
 },
 "nbformat": 4,
 "nbformat_minor": 5
}
